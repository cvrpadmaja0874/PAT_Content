{
  "nbformat": 4,
  "nbformat_minor": 0,
  "metadata": {
    "colab": {
      "provenance": [],
      "authorship_tag": "ABX9TyPK/oE3S+P8sJKxB9KtSRyt",
      "include_colab_link": true
    },
    "kernelspec": {
      "name": "python3",
      "display_name": "Python 3"
    },
    "language_info": {
      "name": "python"
    }
  },
  "cells": [
    {
      "cell_type": "markdown",
      "metadata": {
        "id": "view-in-github",
        "colab_type": "text"
      },
      "source": [
        "<a href=\"https://colab.research.google.com/github/cvrpadmaja0874/PAT_Content/blob/main/PAT_Sorting.ipynb\" target=\"_parent\"><img src=\"https://colab.research.google.com/assets/colab-badge.svg\" alt=\"Open In Colab\"/></a>"
      ]
    },
    {
      "cell_type": "markdown",
      "source": [
        "# **Relative Ranks (Easy)**\n",
        "\n",
        "You are given an integer array score of size n, where score[i] is the score of the ith athlete in a competition. All the scores are guaranteed to be unique.\n",
        "\n",
        "The athletes are placed based on their scores, where the 1st place athlete has the highest score, the 2nd place athlete has the 2nd highest score, and so on. The placement of each athlete determines their rank:\n",
        "\n",
        "The 1st place athlete's rank is \"Gold Medal\".\n",
        "The 2nd place athlete's rank is \"Silver Medal\".\n",
        "The 3rd place athlete's rank is \"Bronze Medal\".\n",
        "For the 4th place to the nth place athlete, their rank is their placement number (i.e., the xth place athlete's rank is \"x\").\n",
        "Return an array answer of size n where answer[i] is the rank of the ith athlete.\n",
        "\n",
        "\n",
        "\n",
        "Example 1:\n",
        "\n",
        "    Input: score = [5,4,3,2,1]\n",
        "    Output: [\"Gold Medal\",\"Silver Medal\",\"Bronze Medal\",\"4\",\"5\"]\n",
        "**Explanation:** The placements are [1st, 2nd, 3rd, 4th, 5th].\n",
        "\n",
        "Example 2:\n",
        "\n",
        "    Input: score = [10,3,8,9,4]\n",
        "    Output: [\"Gold Medal\",\"5\",\"Bronze Medal\",\"Silver Medal\",\"4\"]\n",
        "**Explanation:** The placements are [1st, 5th, 3rd, 2nd, 4th].\n"
      ],
      "metadata": {
        "id": "TgJxpveYBPfP"
      }
    },
    {
      "cell_type": "code",
      "execution_count": null,
      "metadata": {
        "colab": {
          "base_uri": "https://localhost:8080/"
        },
        "id": "T7grne2PBONx",
        "outputId": "5041d343-c5ac-48c3-abec-45175d7ee359"
      },
      "outputs": [
        {
          "output_type": "stream",
          "name": "stdout",
          "text": [
            "['Gold Medal', 'Silver Medal', 'Bronze Medal', '4', '5']\n",
            "['Gold Medal', '5', 'Bronze Medal', 'Silver Medal', '4']\n"
          ]
        }
      ],
      "source": [
        "from collections import defaultdict\n",
        "def findRelativeRanks(score):\n",
        "        d = defaultdict(int)\n",
        "        place = [\"Gold Medal\", \"Silver Medal\", \"Bronze Medal\"]\n",
        "        n = len(score)\n",
        "        a = [\" \"]*n\n",
        "        for i in range(n): d[score[i]] = i\n",
        "        score.sort(reverse=True)\n",
        "\n",
        "        for i in range(n):\n",
        "            if i < 3:\n",
        "                a[d[score[i]]] = place[i]\n",
        "            else:\n",
        "                a[d[score[i]]] = str(i+1)\n",
        "\n",
        "        return a\n",
        "\n",
        "#Driver Code\n",
        "# Test Case 1\n",
        "score = [5,4,3,2,1]\n",
        "print(findRelativeRanks(score))\n",
        "\n",
        "#Driver Code\n",
        "# Test Case 2\n",
        "score = [10,3,8,9,4]\n",
        "print(findRelativeRanks(score))"
      ]
    },
    {
      "cell_type": "markdown",
      "source": [
        "# **Array Partition (Easy)**\n",
        "Given an integer array nums of 2n integers, group these integers into n pairs (a1, b1), (a2, b2), ..., (an, bn) such that the sum of min(ai, bi) for all i is maximized. Return the maximized sum.\n",
        "\n",
        "\n",
        "\n",
        "Example 1:\n",
        "\n",
        "    Input: nums = [1,4,3,2]\n",
        "    Output: 4\n",
        "**Explanation:**\n",
        "\n",
        "All possible pairings (ignoring the ordering of elements) are:\n",
        "1. (1, 4), (2, 3) -> min(1, 4) + min(2, 3) = 1 + 2 = 3\n",
        "2. (1, 3), (2, 4) -> min(1, 3) + min(2, 4) = 1 + 2 = 3\n",
        "3. (1, 2), (3, 4) -> min(1, 2) + min(3, 4) = 1 + 3 = 4\n",
        "\n",
        "So the maximum possible sum is 4.\n",
        "\n",
        "Example 2:\n",
        "\n",
        "    Input: nums = [6,2,6,5,1,2]\n",
        "    Output: 9\n",
        "**Explanation:**\n",
        "\n",
        "The optimal pairing is (2, 1), (2, 5), (6, 6).\n",
        "\n",
        "min(2, 1) + min(2, 5) + min(6, 6) = 1 + 2 + 6 = 9."
      ],
      "metadata": {
        "id": "5Km4pdRqpxnz"
      }
    },
    {
      "cell_type": "markdown",
      "source": [
        "**How to solve this:**\n",
        "\n",
        "\n",
        "\n",
        "1.   Sort the list\n",
        "2.   make a pair starting from index 0\n",
        "3.   take minimum from each pair\n",
        "4.   add all the minimum obtained from the pairs\n",
        "\n",
        "**Logic and Working of the problem:**\n",
        "\n",
        "Suppose we have a list of 6 elements say [2,1,4,5,7,9]\n",
        "\n",
        "First task is to pair them and thus we will have 3 pairs:\n",
        "\n",
        "1.  [1,2], [4,5], [7,9] Sum of their min : 1 + 4 + 7 = 12\n",
        "2.  [1,2], [4,7], [5,9] Sum of thier min : 1 + 4 + 5 = 10\n",
        "3.  [1,2], [4,9], [5,7] Sum of their min : 1 + 4 + 5 = 10\n",
        "4.  [1,4], [2,5], [7,9] Sum of their min : 1 + 2 + 7 = 10\n",
        "5.  [1,4], [2,7], [5,9] Sum of their min : 1 + 2 + 7 = 10\n",
        "6.  [1,5], [2,4], [7,9] Sum of their min : 1 + 2 + 7 = 10\n",
        "7.  [1,4], [2,9], [5,7] Sum of their min : 1 + 2 + 5 = 8\n",
        "8.  [1,7], [2,4], [5,9] Sum of their min : 1 + 2 + 5 = 8\n",
        "9.  [1,9], [2,4], [5,7] Sum of their min : 1 + 2 + 5 = 8\n",
        "10. [1,5], [2,7], [4,9] Sum of their min : 1 + 2 + 4 = 7\n",
        "11. [1,7], [2,5], [4,9] Sum of their min : 1 + 2 + 4 = 7\n",
        "12. [1,7], [2,9], [4,5] Sum of their min : 1 + 2 + 4 = 7\n",
        "13. [1,5], [2,9], [4,7] Sum of their min : 1 + 2 + 4 = 7\n",
        "14. [1,9], [2,5], [4,7] Sum of their min : 1 + 2 + 4 = 7\n",
        "15. [1,9], [2,7], [4,5] Sum of their min : 1 + 2 + 4 = 7\n",
        "\n",
        "From the above pair and their sum we can conclude that the maximum sum is obtained from the pair which are obtained after sorting.\n",
        "\n",
        "Hence the answer to the above problem will be 12 which is obtained from the pairs [1,2], [4,5], [7,9]"
      ],
      "metadata": {
        "id": "LinNSo9IrS7z"
      }
    },
    {
      "cell_type": "code",
      "source": [
        "def arrayPairSum(nums):\n",
        "        nums.sort()\n",
        "        count = 0\n",
        "        for i in range(0, len(nums),2):\n",
        "            count += nums[i]\n",
        "        return count\n",
        "\n",
        "# Driver Code\n",
        "# Test Case 1\n",
        "nums = [1,4,3,2]\n",
        "print(arrayPairSum(nums))"
      ],
      "metadata": {
        "colab": {
          "base_uri": "https://localhost:8080/"
        },
        "id": "qM48t0Kxr4Gr",
        "outputId": "952c549e-1b69-432e-d5b2-0e748d6377a3"
      },
      "execution_count": 1,
      "outputs": [
        {
          "output_type": "stream",
          "name": "stdout",
          "text": [
            "4\n"
          ]
        }
      ]
    },
    {
      "cell_type": "markdown",
      "source": [
        "# **Longest Harmonious Subsequence (Easy)**\n",
        "We define a harmonious array as an array where the difference between its maximum value and its minimum value is exactly 1.\n",
        "\n",
        "Given an integer array nums, return the length of its longest harmonious subsequence among all its possible subsequences.\n",
        "\n",
        "A subsequence of array is a sequence that can be derived from the array by deleting some or no elements without changing the order of the remaining elements.\n",
        "\n",
        "\n",
        "\n",
        "Example 1:\n",
        "\n",
        "    Input: nums = [1,3,2,2,5,2,3,7]\n",
        "    Output: 5\n",
        "\n",
        "**Explanation:**\n",
        "\n",
        "The longest harmonious subsequence is [3,2,2,2,3].\n",
        "\n",
        "Example 2:\n",
        "\n",
        "    Input: nums = [1,2,3,4]\n",
        "    Output: 2\n",
        "\n",
        "Example 3:\n",
        "\n",
        "    Input: nums = [1,1,1,1]\n",
        "    Output: 0"
      ],
      "metadata": {
        "id": "SUk_ZT6csM8T"
      }
    },
    {
      "cell_type": "markdown",
      "source": [
        "# Algorithm:\n",
        "\n",
        "***Step 1: Initialize a dictionary (num_counts):***\n",
        "\n",
        "This dictionary will be used to store the count of occurrences for each unique number in the input array.\n",
        "\n",
        "***Step 2: Count occurrences of each number:***\n",
        "\n",
        "Iterate through the input array and update the counts in the dictionary.\n",
        "\n",
        "***Step 3: Find pairs with a difference of 1 and update maximum length:***\n",
        "\n",
        "Iterate through the keys of the dictionary.\n",
        "\n",
        "For each key, check if the key plus 1 exists in the dictionary.\n",
        "\n",
        "If it does, update the maximum length based on the counts of the current key and the key plus 1.\n",
        "\n",
        "***Step 4: Return the maximum length:***\n",
        "\n",
        "The variable holding the maximum length now represents the length of the longest harmonious subsequence, considering pairs with a difference of 1."
      ],
      "metadata": {
        "id": "q_lx8RpCwTGL"
      }
    },
    {
      "cell_type": "code",
      "source": [
        "def findLHS(nums):\n",
        "        num_counts = {}\n",
        "\n",
        "        # Count occurrences of each number\n",
        "        for num in nums:\n",
        "            num_counts[num] = num_counts.get(num, 0) + 1\n",
        "\n",
        "        max_length = 0\n",
        "\n",
        "        # Iterate through keys and find pairs with a difference of 1\n",
        "        for num in num_counts:\n",
        "            if num + 1 in num_counts:\n",
        "                max_length = max(max_length, num_counts[num] + num_counts[num + 1])\n",
        "\n",
        "        return max_length\n",
        "\n",
        "# Driver Code\n",
        "# Test Case 1\n",
        "nums = [1,3,2,2,5,2,3,7]\n",
        "print(findLHS(nums))\n",
        "\n",
        "# Driver Code\n",
        "# Test Case 2\n",
        "nums = [1,2,3,4]\n",
        "print(findLHS(nums))\n",
        "\n",
        "# Driver Code\n",
        "# Test Case 3\n",
        "nums = [1,1,1,1]\n",
        "print(findLHS(nums))"
      ],
      "metadata": {
        "colab": {
          "base_uri": "https://localhost:8080/"
        },
        "id": "fBbpoXVrwu1j",
        "outputId": "38dfdf5c-b00d-4028-cbdf-98a17b96e83d"
      },
      "execution_count": 3,
      "outputs": [
        {
          "output_type": "stream",
          "name": "stdout",
          "text": [
            "5\n",
            "2\n",
            "0\n"
          ]
        }
      ]
    },
    {
      "cell_type": "markdown",
      "source": [
        "# **Fair Candy Swap (Easy)**\n",
        "\n",
        "Alice and Bob have a different total number of candies. You are given two integer arrays aliceSizes and bobSizes where aliceSizes[i] is the number of candies of the ith box of candy that Alice has and bobSizes[j] is the number of candies of the jth box of candy that Bob has.\n",
        "\n",
        "Since they are friends, they would like to exchange one candy box each so that after the exchange, they both have the same total amount of candy. The total amount of candy a person has is the sum of the number of candies in each box they have.\n",
        "\n",
        "Return an integer array answer where answer[0] is the number of candies in the box that Alice must exchange, and answer[1] is the number of candies in the box that Bob must exchange. If there are multiple answers, you may return any one of them. It is guaranteed that at least one answer exists.\n",
        "\n",
        "Example 1:\n",
        "\n",
        "    Input: aliceSizes = [1,1], bobSizes = [2,2]\n",
        "    Output: [1,2]\n",
        "Example 2:\n",
        "\n",
        "    Input: aliceSizes = [1,2], bobSizes = [2,3]\n",
        "    Output: [1,2]\n",
        "Example 3:\n",
        "\n",
        "    Input: aliceSizes = [2], bobSizes = [1,3]\n",
        "    Output: [2,3]"
      ],
      "metadata": {
        "id": "RkeaH2Ktxs0F"
      }
    },
    {
      "cell_type": "code",
      "source": [
        "def fairCandySwap(aliceSizes, bobSizes):\n",
        "        # Calculate the total candies for Alice and Bob\n",
        "        totalAlice = sum(aliceSizes)\n",
        "        totalBob = sum(bobSizes)\n",
        "\n",
        "        # Calculate the target total candy count for each person after the exchange\n",
        "        targetTotal = (totalAlice + totalBob) // 2\n",
        "\n",
        "        # Find the candy that Alice needs to exchange\n",
        "        for aliceCandy in aliceSizes:\n",
        "            # Calculate the candy that Bob should exchange to reach the target total\n",
        "            bobCandy = aliceCandy + (targetTotal - totalAlice)\n",
        "            if bobCandy in bobSizes:\n",
        "                return [aliceCandy, bobCandy]\n",
        "\n",
        "# Driver Code\n",
        "# Test Case 1\n",
        "aliceSizes = [1,1]\n",
        "bobSizes = [2,2]\n",
        "print(fairCandySwap(aliceSizes, bobSizes))\n",
        "\n",
        "# Driver Code\n",
        "# Test Case 2\n",
        "aliceSizes = [1,2]\n",
        "bobSizes = [2,3]\n",
        "print(fairCandySwap(aliceSizes, bobSizes))\n",
        "\n",
        "# Driver Code\n",
        "# Test Case 3\n",
        "aliceSizes = [2]\n",
        "bobSizes = [1,3]\n",
        "print(fairCandySwap(aliceSizes, bobSizes))"
      ],
      "metadata": {
        "colab": {
          "base_uri": "https://localhost:8080/"
        },
        "id": "gnF6fepuySfD",
        "outputId": "e1643648-9cd4-48aa-9dae-e0ada31e4c43"
      },
      "execution_count": 4,
      "outputs": [
        {
          "output_type": "stream",
          "name": "stdout",
          "text": [
            "[1, 2]\n",
            "[1, 2]\n",
            "[2, 3]\n"
          ]
        }
      ]
    },
    {
      "cell_type": "markdown",
      "source": [
        "# **Sort Array By Parity (Easy)**\n",
        "\n",
        "Given an integer array nums, move all the even integers at the beginning of the array followed by all the odd integers.\n",
        "\n",
        "Return any array that satisfies this condition.\n",
        "\n",
        "\n",
        "\n",
        "Example 1:\n",
        "\n",
        "    Input: nums = [3,1,2,4]\n",
        "    Output: [2,4,3,1]\n",
        "\n",
        "**Explanation:**\n",
        "\n",
        "The outputs [4,2,3,1], [2,4,1,3], and [4,2,1,3] would also be accepted.\n",
        "\n",
        "Example 2:\n",
        "\n",
        "    Input: nums = [0]\n",
        "    Output: [0]\n"
      ],
      "metadata": {
        "id": "yK_WJkuWz8T7"
      }
    },
    {
      "cell_type": "code",
      "source": [
        "def sortArrayByParity(nums):\n",
        "        # Initialize pointers\n",
        "        left, right = 0, len(nums) - 1\n",
        "\n",
        "        while left < right:\n",
        "            # Move left pointer to the right until an odd number is found\n",
        "            while left < right and nums[left] % 2 == 0:\n",
        "                left += 1\n",
        "\n",
        "            # Move right pointer to the left until an even number is found\n",
        "            while left < right and nums[right] % 2 == 1:\n",
        "                right -= 1\n",
        "\n",
        "            # Swap the even and odd numbers\n",
        "            nums[left], nums[right] = nums[right], nums[left]\n",
        "\n",
        "        return nums\n",
        "\n",
        "# Driver Code\n",
        "# Test Case 1\n",
        "nums = [3,1,2,4]\n",
        "print(sortArrayByParity(nums))\n",
        "\n",
        "# Driver Code\n",
        "# Test Case 2\n",
        "nums = [0]\n",
        "print(sortArrayByParity(nums))\n",
        "\n",
        "# Driver Code\n",
        "# Test Case 3\n",
        "nums = [1,2,1,2]\n",
        "print(sortArrayByParity(nums))"
      ],
      "metadata": {
        "colab": {
          "base_uri": "https://localhost:8080/"
        },
        "id": "PB7D5x371fUM",
        "outputId": "6902c6ed-349f-467a-a9dd-613038b854b3"
      },
      "execution_count": 5,
      "outputs": [
        {
          "output_type": "stream",
          "name": "stdout",
          "text": [
            "[4, 2, 1, 3]\n",
            "[0]\n",
            "[2, 2, 1, 1]\n"
          ]
        }
      ]
    },
    {
      "cell_type": "markdown",
      "source": [
        "# **Matrix Cells in Distance Order (Easy)**\n",
        "\n",
        "You are given four integers row, cols, rCenter, and cCenter. There is a rows x cols matrix and you are on the cell with the coordinates (rCenter, cCenter).\n",
        "\n",
        "Return the coordinates of all cells in the matrix, sorted by their distance from (rCenter, cCenter) from the smallest distance to the largest distance. You may return the answer in any order that satisfies this condition.\n",
        "\n",
        "The distance between two cells (r1, c1) and (r2, c2) is |r1 - r2| + |c1 - c2|.\n",
        "\n",
        "\n",
        "\n",
        "Example 1:\n",
        "\n",
        "    Input: rows = 1, cols = 2, rCenter = 0, cCenter = 0\n",
        "    Output: [[0,0],[0,1]]\n",
        "**Explanation:** The distances from (0, 0) to other cells are: [0,1]\n",
        "\n",
        "Example 2:\n",
        "\n",
        "    Input: rows = 2, cols = 2, rCenter = 0, cCenter = 1\n",
        "    Output: [[0,1],[0,0],[1,1],[1,0]]\n",
        "**Explanation:** The distances from (0, 1) to other cells are: [0,1,1,2]\n",
        "The answer [[0,1],[1,1],[0,0],[1,0]] would also be accepted as correct.\n",
        "\n",
        "Example 3:\n",
        "\n",
        "    Input: rows = 2, cols = 3, rCenter = 1, cCenter = 2\n",
        "    Output: [[1,2],[0,2],[1,1],[0,1],[1,0],[0,0]]\n",
        "**Explanation:** The distances from (1, 2) to other cells are: [0,1,1,2,2,3]\n",
        "\n",
        "There are other answers that would also be accepted as correct, such as [[1,2],[1,1],[0,2],[1,0],[0,1],[0,0]]."
      ],
      "metadata": {
        "id": "4sfEu0OT19ir"
      }
    },
    {
      "cell_type": "code",
      "source": [
        "def allCellsDistOrder(rows, cols, rCenter, cCenter):\n",
        "        # Generate all cell coordinates and calculate distances\n",
        "        cells = [(i, j) for i in range(rows) for j in range(cols)]\n",
        "        distances = sorted(cells, key=lambda cell: abs(cell[0] - rCenter) + abs(cell[1] - cCenter))\n",
        "\n",
        "        return distances\n",
        "\n",
        "#Driver Code\n",
        "# Test Case 1\n",
        "rows = 1; cols = 2; rCenter = 0; cCenter = 0\n",
        "print(allCellsDistOrder(rows, cols, rCenter, cCenter))\n",
        "\n",
        "#Driver Code\n",
        "# Test Case 2\n",
        "rows = 2; cols = 2; rCenter = 0; cCenter = 1\n",
        "print(allCellsDistOrder(rows, cols, rCenter, cCenter))\n",
        "\n",
        "#Driver Code\n",
        "# Test Case 3\n",
        "rows = 2; cols = 3; rCenter = 1; cCenter = 2\n",
        "print(allCellsDistOrder(rows, cols, rCenter, cCenter))"
      ],
      "metadata": {
        "colab": {
          "base_uri": "https://localhost:8080/"
        },
        "id": "aUa8EhHj5UGO",
        "outputId": "0995f73e-da5d-4efa-cc09-e7ee6f6ebbb6"
      },
      "execution_count": 7,
      "outputs": [
        {
          "output_type": "stream",
          "name": "stdout",
          "text": [
            "[(0, 0), (0, 1)]\n",
            "[(0, 1), (0, 0), (1, 1), (1, 0)]\n",
            "[(1, 2), (0, 2), (1, 1), (0, 1), (1, 0), (0, 0)]\n"
          ]
        }
      ]
    },
    {
      "cell_type": "markdown",
      "source": [
        "# **Two City Scheduling (Medium)**\n",
        "A company is planning to interview 2n people. Given the array costs where costs[i] = [aCosti, bCosti], the cost of flying the ith person to city a is aCosti, and the cost of flying the ith person to city b is bCosti.\n",
        "\n",
        "Return the minimum cost to fly every person to a city such that exactly n people arrive in each city.\n",
        "\n",
        "\n",
        "\n",
        "Example 1:\n",
        "\n",
        "    Input: costs = [[10,20],[30,200],[400,50],[30,20]]\n",
        "    Output: 110\n",
        "**Explanation:**\n",
        "\n",
        "The first person goes to city A for a cost of 10.\n",
        "\n",
        "The second person goes to city A for a cost of 30.\n",
        "\n",
        "The third person goes to city B for a cost of 50.\n",
        "\n",
        "The fourth person goes to city B for a cost of 20.\n",
        "\n",
        "The total minimum cost is 10 + 30 + 50 + 20 = 110 to have half the people interviewing in each city.\n",
        "\n",
        "Example 2:\n",
        "\n",
        "    Input: costs = [[259,770],[448,54],[926,667],[184,139],[840,118],[577,469]]\n",
        "    Output: 1859\n",
        "\n",
        "Example 3:\n",
        "\n",
        "    Input: costs = [[515,563],[451,713],[537,709],[343,819],[855,779],[457,60],[650,359],[631,42]]\n",
        "    Output: 3086"
      ],
      "metadata": {
        "id": "GLvWhhYi8yhX"
      }
    },
    {
      "cell_type": "code",
      "source": [
        "def twoCitySchedCost(costs):\n",
        "        # Sort costs based on the difference between costs of flying to city A and city B\n",
        "        costs.sort(key=lambda x: x[0] - x[1])\n",
        "\n",
        "        n = len(costs) // 2\n",
        "        total_cost = 0\n",
        "\n",
        "        # Select the first n people to fly to city A and the remaining to city B\n",
        "        for i in range(n):\n",
        "            total_cost += costs[i][0]\n",
        "\n",
        "        for i in range(n, len(costs)):\n",
        "            total_cost += costs[i][1]\n",
        "\n",
        "        return total_cost\n",
        "\n",
        "#Driver Code\n",
        "# Test Case 1\n",
        "costs = [[10,20],[30,200],[400,50],[30,20]]\n",
        "print(twoCitySchedCost(costs))\n",
        "\n",
        "#Driver Code\n",
        "# Test Case 2\n",
        "costs = [[259,770],[448,54],[926,667],[184,139],[840,118],[577,469]]\n",
        "print(twoCitySchedCost(costs))\n",
        "\n",
        "#Driver Code\n",
        "# Test Case 1\n",
        "costs = [[515,563],[451,713],[537,709],[343,819],[855,779],[457,60],[650,359],[631,42]]\n",
        "print(twoCitySchedCost(costs))"
      ],
      "metadata": {
        "id": "c_-RO4x69EJk",
        "outputId": "96f13dd9-02d6-40c4-c85a-029d0580b568",
        "colab": {
          "base_uri": "https://localhost:8080/"
        }
      },
      "execution_count": 9,
      "outputs": [
        {
          "output_type": "stream",
          "name": "stdout",
          "text": [
            "110\n",
            "1859\n",
            "3086\n"
          ]
        }
      ]
    },
    {
      "cell_type": "markdown",
      "source": [
        "# **Merge Sorted Array (Easy)**\n",
        "You are given two integer arrays nums1 and nums2, sorted in non-decreasing order, and two integers m and n, representing the number of elements in nums1 and nums2 respectively.\n",
        "\n",
        "Merge nums1 and nums2 into a single array sorted in non-decreasing order.\n",
        "\n",
        "The final sorted array should not be returned by the function, but instead be stored inside the array nums1. To accommodate this, nums1 has a length of m + n, where the first m elements denote the elements that should be merged, and the last n elements are set to 0 and should be ignored. nums2 has a length of n.\n",
        "\n",
        "\n",
        "\n",
        "Example 1:\n",
        "\n",
        "    Input: nums1 = [1,2,3,0,0,0], m = 3, nums2 = [2,5,6], n = 3\n",
        "    Output: [1,2,2,3,5,6]\n",
        "**Explanation:** The arrays we are merging are [1,2,3] and [2,5,6].\n",
        "The result of the merge is [1,2,2,3,5,6] with the underlined elements coming from nums1.\n",
        "\n",
        "Example 2:\n",
        "\n",
        "    Input: nums1 = [1], m = 1, nums2 = [], n = 0\n",
        "    Output: [1]\n",
        "**Explanation**: The arrays we are merging are [1] and [].\n",
        "The result of the merge is [1].\n",
        "\n",
        "Example 3:\n",
        "\n",
        "    Input: nums1 = [0], m = 0, nums2 = [1], n = 1\n",
        "    Output: [1]\n",
        "**Explanation:** The arrays we are merging are [] and [1].\n",
        "The result of the merge is [1].\n",
        "Note that because m = 0, there are no elements in nums1. The 0 is only there to ensure the merge result can fit in nums1."
      ],
      "metadata": {
        "id": "p0-ptQcp-La0"
      }
    },
    {
      "cell_type": "code",
      "source": [
        "def merge(nums1, m, nums2, n):\n",
        "        \"\"\"\n",
        "        Do not return anything, modify nums1 in-place instead.\n",
        "        \"\"\"\n",
        "        # Start from the end of both arrays\n",
        "        i, j, k = m - 1, n - 1, m + n - 1\n",
        "\n",
        "        # Merge nums1 and nums2 in non-decreasing order\n",
        "        while i >= 0 and j >= 0:\n",
        "            if nums1[i] > nums2[j]:\n",
        "                nums1[k] = nums1[i]\n",
        "                i -= 1\n",
        "            else:\n",
        "                nums1[k] = nums2[j]\n",
        "                j -= 1\n",
        "            k -= 1\n",
        "\n",
        "        # If there are remaining elements in nums2, copy them to nums1\n",
        "        while j >= 0:\n",
        "            nums1[k] = nums2[j]\n",
        "            j -= 1\n",
        "            k -= 1\n",
        "\n",
        "\n",
        "#Driver Code\n",
        "# Test Case 1\n",
        "nums1 = [1,2,3,0,0,0]; m = 3; nums2 = [2,5,6]; n = 3\n",
        "print(\"Test Case 1:\")\n",
        "print(nums1)\n",
        "print(nums2)\n",
        "merge(nums1, m, nums2, n)\n",
        "print(nums1)\n",
        "print()\n",
        "\n",
        "#Driver Code\n",
        "# Test Case 2\n",
        "nums1 = [1]; m = 1; nums2 = []; n = 0\n",
        "print(\"Test Case 2:\")\n",
        "print(nums1)\n",
        "print(nums2)\n",
        "merge(nums1, m, nums2, n)\n",
        "print(nums1)\n",
        "print()\n",
        "\n",
        "#Driver Code\n",
        "# Test Case 3\n",
        "nums1 = [0]; m = 0; nums2 = [1]; n = 1\n",
        "print(\"Test Case 3:\")\n",
        "print(nums1)\n",
        "print(nums2)\n",
        "merge(nums1, m, nums2, n)\n",
        "print(nums1)\n",
        "print()"
      ],
      "metadata": {
        "id": "4iKbO7vU_Cdl",
        "outputId": "ef9cceb9-549f-42f3-c900-b5950722cab1",
        "colab": {
          "base_uri": "https://localhost:8080/"
        }
      },
      "execution_count": 15,
      "outputs": [
        {
          "output_type": "stream",
          "name": "stdout",
          "text": [
            "Test Case 1:\n",
            "[1, 2, 3, 0, 0, 0]\n",
            "[2, 5, 6]\n",
            "[1, 2, 2, 3, 5, 6]\n",
            "\n",
            "Test Case 2:\n",
            "[1]\n",
            "[]\n",
            "[1]\n",
            "\n",
            "Test Case 3:\n",
            "[0]\n",
            "[1]\n",
            "[1]\n",
            "\n"
          ]
        }
      ]
    },
    {
      "cell_type": "markdown",
      "source": [
        "# **Insertion Sort List (Medium)**\n",
        "Given the head of a singly linked list, sort the list using insertion sort, and return the sorted list's head.\n",
        "\n",
        "**The steps of the insertion sort algorithm:**\n",
        "\n",
        "*Insertion sort iterates, consuming one input element each repetition and growing a sorted output list.*\n",
        "\n",
        "*At each iteration, insertion sort removes one element from the input data, finds the location it belongs within the sorted list and inserts it there.*\n",
        "\n",
        "*It repeats until no input elements remain.*\n",
        "\n",
        "\n",
        "Example 1\n",
        "\n",
        "    Input: head = [4,2,1,3]\n",
        "    Output: [1,2,3,4]\n",
        "\n",
        "Example 2\n",
        "\n",
        "    Input: head = [-1,5,3,4,0]\n",
        "    Output: [-1,0,3,4,5]"
      ],
      "metadata": {
        "id": "EVzswUCHCtEb"
      }
    },
    {
      "cell_type": "code",
      "source": [
        "class ListNode:\n",
        "    def __init__(self, val=0, next=None):\n",
        "        self.val = val\n",
        "        self.next = next\n",
        "\n",
        "def insertionSortList(head):\n",
        "    if not head or not head.next:\n",
        "        return head\n",
        "\n",
        "    dummy = ListNode(0)\n",
        "    dummy.next = head\n",
        "    current = head.next\n",
        "    prev = head\n",
        "\n",
        "    while current:\n",
        "        if current.val < prev.val:\n",
        "            # Remove current node from the list\n",
        "            prev.next = current.next\n",
        "\n",
        "            # Find the correct position to insert the current node\n",
        "            temp = dummy\n",
        "            while temp.next and temp.next.val < current.val:\n",
        "                temp = temp.next\n",
        "\n",
        "            # Insert the current node into the sorted part of the list\n",
        "            current.next = temp.next\n",
        "            temp.next = current\n",
        "\n",
        "            # Move to the next unsorted node\n",
        "            current = prev.next\n",
        "        else:\n",
        "            # Move to the next unsorted node\n",
        "            prev = current\n",
        "            current = current.next\n",
        "\n",
        "    return dummy.next\n",
        "\n",
        "# Example usage:\n",
        "# Construct a linked list: 4 -> 2 -> 1 -> 3\n",
        "head = ListNode(4, ListNode(2, ListNode(1, ListNode(3))))\n",
        "sorted_head = insertionSortList(head)\n",
        "\n",
        "# Print the sorted linked list\n",
        "while sorted_head:\n",
        "    print(sorted_head.val, end=\" \")\n",
        "    sorted_head = sorted_head.next\n"
      ],
      "metadata": {
        "id": "cv5LLIwgCoAk",
        "outputId": "1b0095e6-4685-4932-8f0b-0f0ae5e7570e",
        "colab": {
          "base_uri": "https://localhost:8080/"
        }
      },
      "execution_count": 16,
      "outputs": [
        {
          "output_type": "stream",
          "name": "stdout",
          "text": [
            "1 2 3 4 "
          ]
        }
      ]
    },
    {
      "cell_type": "markdown",
      "source": [
        "# **Kth Smallest Element in a Sorted Matrix (Medium)**\n",
        "Given an n x n matrix where each of the rows and columns is sorted in ascending order, return the kth smallest element in the matrix.\n",
        "\n",
        "Note that it is the kth smallest element in the sorted order, not the kth distinct element.\n",
        "\n",
        "You must find a solution with a memory complexity better than O(n2).\n",
        "\n",
        "\n",
        "\n",
        "Example 1:\n",
        "\n",
        "    Input: matrix = [[1,5,9],[10,11,13],[12,13,15]], k = 8\n",
        "    Output: 13\n",
        "\n",
        "**Explanation:**\n",
        "The elements in the matrix are [1,5,9,10,11,12,13,13,15], and the 8th smallest number is 13\n",
        "\n",
        "\n",
        "Example 2:\n",
        "\n",
        "    Input: matrix = [[-5]], k = 1\n",
        "    Output: -5"
      ],
      "metadata": {
        "id": "TsGYknhTENq8"
      }
    },
    {
      "cell_type": "code",
      "source": [
        "def kthSmallest(matrix, k):\n",
        "        n = len(matrix)\n",
        "        low, high = matrix[0][0], matrix[n - 1][n - 1]\n",
        "\n",
        "        while low < high:\n",
        "            mid = low + (high - low) // 2\n",
        "            count, i, j = 0, n - 1, 0\n",
        "\n",
        "            while i >= 0 and j < n:\n",
        "                if matrix[i][j] <= mid:\n",
        "                    count += i + 1\n",
        "                    j += 1\n",
        "                else:\n",
        "                    i -= 1\n",
        "\n",
        "            if count < k:\n",
        "                low = mid + 1\n",
        "            else:\n",
        "                high = mid\n",
        "\n",
        "        return low\n",
        "\n",
        "# Driver Code\n",
        "# Test Case 1\n",
        "matrix = [[1,5,9],[10,11,13],[12,13,15]]; k = 8\n",
        "print(kthSmallest(matrix, k))\n",
        "\n",
        "# Driver Code\n",
        "# Test Case 2\n",
        "matrix = [[-5]]; k = 1\n",
        "print(kthSmallest(matrix, k))\n",
        "\n",
        "# Driver Code\n",
        "# Test Case 1\n",
        "matrix = [[1,5,9],[10,11,13],[12,13,15]]; k = 3\n",
        "print(kthSmallest(matrix, k))"
      ],
      "metadata": {
        "id": "iwUvJRz7EnYX",
        "outputId": "5e2ec6a4-0407-4407-a736-a8d80509b51b",
        "colab": {
          "base_uri": "https://localhost:8080/"
        }
      },
      "execution_count": 23,
      "outputs": [
        {
          "output_type": "stream",
          "name": "stdout",
          "text": [
            "13\n",
            "-5\n",
            "9\n"
          ]
        }
      ]
    }
  ]
}